{
 "cells": [
  {
   "cell_type": "code",
   "execution_count": 1,
   "metadata": {},
   "outputs": [],
   "source": [
    "import re # библиотека регулярных выражений\n",
    "from collections import Counter # библиотека для подсчёта значений"
   ]
  },
  {
   "cell_type": "code",
   "execution_count": 2,
   "metadata": {},
   "outputs": [
    {
     "name": "stdout",
     "output_type": "stream",
     "text": [
      "<re.Match object; span=(0, 1), match='3'>\n",
      "None\n",
      "<re.Match object; span=(0, 1), match='3'>\n",
      "<re.Match object; span=(7, 8), match='3'>\n",
      "['3', '3']\n",
      "['3', '3']\n",
      "[<re.Match object; span=(0, 1), match='3'>, <re.Match object; span=(11, 12), match='3'>]\n",
      "[<re.Match object; span=(7, 8), match='3'>, <re.Match object; span=(20, 21), match='3'>]\n"
     ]
    }
   ],
   "source": [
    "print (re.match (r'\\d', '3 яблока в 3 корзинах')) # Ищет совпадение в начале строки\n",
    "print (re.match (r'\\d', 'яблока 3 в корзинах 3'))\n",
    "print (re.search (r'\\d', '3 яблока в 3 корзинах')) # Ищет первое совпадение в любом месте строки\n",
    "print (re.search (r'\\d', 'яблока 3 в корзинах 3'))\n",
    "print (re.findall (r'\\d', 'яблока 3 в корзинах 3')) # Ищет все совпадения в строке и возвращает список значений\n",
    "print (re.findall (r'\\d', '3 яблока в 3 корзинах'))\n",
    "print (list (re.finditer (r'\\d', '3 яблока в 3 корзинах'))) # Ищет совпадения в строке и возвращает список их позиций и значений\n",
    "print (list (re.finditer (r'\\d', 'яблока 3 в корзинах 3')))"
   ]
  },
  {
   "cell_type": "code",
   "execution_count": 3,
   "metadata": {},
   "outputs": [
    {
     "name": "stdout",
     "output_type": "stream",
     "text": [
      "0\n",
      "1\n",
      "3\n"
     ]
    }
   ],
   "source": [
    "look = re.search (r'\\d', '3 яблока в 3 корзинах')\n",
    "print (look.start()) # начальная позиция\n",
    "print (look.end()) # конечная позиция\n",
    "print (look.group()) # значение"
   ]
  },
  {
   "cell_type": "code",
   "execution_count": 4,
   "metadata": {},
   "outputs": [
    {
     "name": "stdout",
     "output_type": "stream",
     "text": [
      "12 f 1d 3 24\n",
      "12 f 1d 3 24\n",
      "f 1d 3\n",
      "1d\n"
     ]
    },
    {
     "ename": "IndexError",
     "evalue": "no such group",
     "output_type": "error",
     "traceback": [
      "\u001b[1;31m---------------------------------------------------------------------------\u001b[0m",
      "\u001b[1;31mIndexError\u001b[0m                                Traceback (most recent call last)",
      "\u001b[1;32m<ipython-input-4-aa20a6cff79e>\u001b[0m in \u001b[0;36m<module>\u001b[1;34m\u001b[0m\n\u001b[0;32m      3\u001b[0m \u001b[0mprint\u001b[0m \u001b[1;33m(\u001b[0m\u001b[0mre\u001b[0m\u001b[1;33m.\u001b[0m\u001b[0msearch\u001b[0m \u001b[1;33m(\u001b[0m\u001b[1;34mr'12 (\\w (\\d\\w) \\d) 24'\u001b[0m\u001b[1;33m,\u001b[0m \u001b[1;34m'12 f 1d 3 24'\u001b[0m\u001b[1;33m)\u001b[0m\u001b[1;33m.\u001b[0m\u001b[0mgroup\u001b[0m\u001b[1;33m(\u001b[0m\u001b[1;36m1\u001b[0m\u001b[1;33m)\u001b[0m\u001b[1;33m)\u001b[0m \u001b[1;31m# первый уровень углубления, первые внешние групповые скобки\u001b[0m\u001b[1;33m\u001b[0m\u001b[1;33m\u001b[0m\u001b[0m\n\u001b[0;32m      4\u001b[0m \u001b[0mprint\u001b[0m \u001b[1;33m(\u001b[0m\u001b[0mre\u001b[0m\u001b[1;33m.\u001b[0m\u001b[0msearch\u001b[0m \u001b[1;33m(\u001b[0m\u001b[1;34mr'12 (\\w (\\d\\w) \\d) 24'\u001b[0m\u001b[1;33m,\u001b[0m \u001b[1;34m'12 f 1d 3 24'\u001b[0m\u001b[1;33m)\u001b[0m\u001b[1;33m.\u001b[0m\u001b[0mgroup\u001b[0m\u001b[1;33m(\u001b[0m\u001b[1;36m2\u001b[0m\u001b[1;33m)\u001b[0m\u001b[1;33m)\u001b[0m \u001b[1;31m# второй уровень, самая маленькая группа в этом выражении\u001b[0m\u001b[1;33m\u001b[0m\u001b[1;33m\u001b[0m\u001b[0m\n\u001b[1;32m----> 5\u001b[1;33m \u001b[0mprint\u001b[0m \u001b[1;33m(\u001b[0m\u001b[0mre\u001b[0m\u001b[1;33m.\u001b[0m\u001b[0msearch\u001b[0m \u001b[1;33m(\u001b[0m\u001b[1;34mr'12 (\\w (\\d\\w) \\d) 24'\u001b[0m\u001b[1;33m,\u001b[0m \u001b[1;34m'12 f 1d 3 24'\u001b[0m\u001b[1;33m)\u001b[0m\u001b[1;33m.\u001b[0m\u001b[0mgroup\u001b[0m\u001b[1;33m(\u001b[0m\u001b[1;36m3\u001b[0m\u001b[1;33m)\u001b[0m\u001b[1;33m)\u001b[0m \u001b[1;31m# ошибка, так как третьего уровня группировки здесь нет\u001b[0m\u001b[1;33m\u001b[0m\u001b[1;33m\u001b[0m\u001b[0m\n\u001b[0m",
      "\u001b[1;31mIndexError\u001b[0m: no such group"
     ]
    }
   ],
   "source": [
    "print (re.search (r'12 (\\w (\\d\\w) \\d) 24', '12 f 1d 3 24').group()) # всё выражение\n",
    "print (re.search (r'12 (\\w (\\d\\w) \\d) 24', '12 f 1d 3 24').group(0)) # всё выражение\n",
    "print (re.search (r'12 (\\w (\\d\\w) \\d) 24', '12 f 1d 3 24').group(1)) # первый уровень углубления, первые внешние групповые скобки\n",
    "print (re.search (r'12 (\\w (\\d\\w) \\d) 24', '12 f 1d 3 24').group(2)) # второй уровень, самая маленькая группа в этом выражении\n",
    "print (re.search (r'12 (\\w (\\d\\w) \\d) 24', '12 f 1d 3 24').group(3)) # ошибка, так как третьего уровня группировки здесь нет"
   ]
  },
  {
   "cell_type": "code",
   "execution_count": 5,
   "metadata": {},
   "outputs": [
    {
     "name": "stdout",
     "output_type": "stream",
     "text": [
      "[('3kk3', 'kk')]\n",
      "['3kk3']\n",
      "[('3kk3', 'kk'), ('2aa2', 'aa')]\n",
      "['3kk3', '2aa2']\n"
     ]
    }
   ],
   "source": [
    "print (re.findall (r'(\\d(\\w\\w)\\d)', '3kk3'))\n",
    "print (re.findall (r'(\\d(?:\\w\\w)\\d)', '3kk3')) # ?: позволяет не учитывать подгруппы как отдельные элементы\n",
    "print (re.findall (r'(\\d(\\w\\w)\\d)', '3kk3 2aa2'))\n",
    "print (re.findall (r'(\\d(?:\\w\\w)\\d)', '3kk3 2aa2')) "
   ]
  },
  {
   "cell_type": "code",
   "execution_count": 6,
   "metadata": {},
   "outputs": [
    {
     "name": "stdout",
     "output_type": "stream",
     "text": [
      "Меня зовут Дашкина Даша, тебя зовут Сашкин Саша.\n"
     ]
    }
   ],
   "source": [
    "# Задача: поменять местами имя и фамилию\n",
    "\n",
    "text = 'Меня зовут Даша Дашкина, тебя зовут Саша Сашкин.'\n",
    "print (re.sub (r'([А-Я][а-я]+) ([А-Я][а-я]+)', r'\\2 \\1', text))"
   ]
  },
  {
   "cell_type": "code",
   "execution_count": 7,
   "metadata": {},
   "outputs": [
    {
     "name": "stdout",
     "output_type": "stream",
     "text": [
      "['12', '+', '13*15', ' - 6']\n",
      "['12  +  13*15   - 6']\n",
      "['12', '13', '15', '6']\n",
      "['12', '+', '13', '*', '15', '-', '6']\n",
      "['12  ', '  13', '15   - 6']\n"
     ]
    }
   ],
   "source": [
    "print ('12  +  13*15   - 6'.split ('  ')) # обычный строчный сплит разделяет только по одному сепаратору\n",
    "print ('12  +  13*15   - 6'.split (r'\\s*[+*-]\\s*')) # строчный сплит не работает с регулярными выражениями в качестве разделителя\n",
    "print (re.split (r'\\s*[+*-]\\s*', '12  +  13*15   - 6')) # то же самое, что строчный сплит, но по регулярному выражению\n",
    "print (re.split (r'\\s*([+*-])\\s*', '12  +  13*15   - 6')) # группировка позволяет выделять разделитель в отдельный элемент списка\n",
    "print (re.split (r'\\+|\\*', '12  +  13*15   - 6')) # прямая разделительная черта позволяет разделить по нескольким сепараторам"
   ]
  },
  {
   "cell_type": "code",
   "execution_count": 8,
   "metadata": {},
   "outputs": [
    {
     "name": "stdout",
     "output_type": "stream",
     "text": [
      "<re.Match object; span=(3, 9), match='апреля'>\n",
      "<re.Match object; span=(3, 9), match='апреля'>\n",
      "12 04 1961 года первый человек полетел в космос.\n",
      "12.04.1961 первый человек полетел в космос.\n"
     ]
    }
   ],
   "source": [
    "# Задача: привести дату к формату 12.04.1961\n",
    "\n",
    "months = {'января':'01', 'февраля':'02', 'марта':'03', 'апреля':'04',\n",
    "              'мая':'05', 'июня':'06', 'июля':'07', 'августа':'08',\n",
    "              'сентября':'09', 'октября':'10', 'ноября':'11', 'декабря':'12'}\n",
    "\n",
    "text = '12 апреля 1961 года первый человек полетел в космос.'\n",
    "\n",
    "print (re.search (r'\\w*(?=\\s\\d{4})', text)) # ?= показывает, что дальше идёт это выражение, но включать в вывод его не нужно\n",
    "print (re.search (r'((?<=\\d{2}\\s)|(?<=\\d\\s))\\w*', text)) \n",
    "# ?<= показывает, что до нужного кусочка идёт это выражение, но включать в вывод его не нужно\n",
    "# для просмотра назад нужно чёткое количество символов, \n",
    "# поэтому несколько вариантов прописываем в круглых скобках через вертикальную черту, а не внутренними квантификаторами\n",
    "\n",
    "subvalue = re.sub(r'(?!=\\d{1,2}\\s)\\w*(?=\\s\\d{4})', lambda m: months.get(m.group(0)), text)\n",
    "print (subvalue) \n",
    "# Ссылаемся на словарь только через dict.get ()\n",
    "\n",
    "final = re.sub(r'(?P<date>\\d{1,2})\\s(?P<month>\\d{2})\\s(?P<year>\\d{4}) года', r'\\g<date>.\\g<month>.\\g<year>', subvalue)\n",
    "print (final)\n",
    "\n",
    "# С помощью ?P<> называем группу\n",
    "# С помощью \\g<> ссылаемся на неё"
   ]
  }
 ],
 "metadata": {
  "kernelspec": {
   "display_name": "Python 3",
   "language": "python",
   "name": "python3"
  },
  "language_info": {
   "codemirror_mode": {
    "name": "ipython",
    "version": 3
   },
   "file_extension": ".py",
   "mimetype": "text/x-python",
   "name": "python",
   "nbconvert_exporter": "python",
   "pygments_lexer": "ipython3",
   "version": "3.7.4"
  }
 },
 "nbformat": 4,
 "nbformat_minor": 2
}
